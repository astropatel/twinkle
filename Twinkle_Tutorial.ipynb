{
 "cells": [
  {
   "cell_type": "markdown",
   "metadata": {},
   "source": [
    "# TWINKLE Tutorial Jupyter Notebook"
   ]
  },
  {
   "cell_type": "markdown",
   "metadata": {},
   "source": [
    "# 1. Set up"
   ]
  },
  {
   "cell_type": "code",
   "execution_count": null,
   "metadata": {},
   "outputs": [],
   "source": [
    "pwd"
   ]
  },
  {
   "cell_type": "code",
   "execution_count": 26,
   "metadata": {},
   "outputs": [
    {
     "name": "stdout",
     "output_type": "stream",
     "text": [
      "The autoreload extension is already loaded. To reload it, use:\n",
      "  %reload_ext autoreload\n",
      "The history saving thread hit an unexpected error (OperationalError('attempt to write a readonly database')).History will not be written to the database.\n"
     ]
    }
   ],
   "source": [
    "import os\n",
    "import numpy as np\n",
    "import matplotlib.pyplot as plt\n",
    "from twinkle import twinkle\n",
    "import pandas as pd\n",
    "\n",
    "os.environ[\"MKL_DEBUG_CPU_TYPE\"] = \"5\"  # Suppresses SSE4.2 deprecation warning\n",
    "\n",
    "%load_ext autoreload\n",
    "%autoreload 2"
   ]
  },
  {
   "cell_type": "markdown",
   "metadata": {},
   "source": [
    "#### INITIATE INTERACTIVE MATPLOTLIB PLOTTING"
   ]
  },
  {
   "cell_type": "markdown",
   "metadata": {},
   "source": [
    "##### If this doesn't work, change to \"%matplotlib inline\" and update both matplotlib and jupyter notebook to make nbagg backend to work"
   ]
  },
  {
   "cell_type": "code",
   "execution_count": 27,
   "metadata": {},
   "outputs": [],
   "source": [
    "%matplotlib inline"
   ]
  },
  {
   "cell_type": "markdown",
   "metadata": {},
   "source": [
    "## 1.1 Load & View Parameter and User Input Files\n",
    "##### Change path to where you store your paramfile"
   ]
  },
  {
   "cell_type": "code",
   "execution_count": 30,
   "metadata": {},
   "outputs": [],
   "source": [
    "jfile = os.path.join(os.path.expanduser('~'),'Dropbox','Research','twinkle-master','paramfile.json')"
   ]
  },
  {
   "cell_type": "markdown",
   "metadata": {},
   "source": [
    "Provide the \"fuel\" for the stars to twinkle. ;-) "
   ]
  },
  {
   "cell_type": "code",
   "execution_count": 31,
   "metadata": {},
   "outputs": [
    {
     "name": "stdout",
     "output_type": "stream",
     "text": [
      "Empirical Color File: /Users/darthpatel/Library/CloudStorage/Dropbox/Research/twinkle-master/Inputs_and_Models/EMamajek_MSColors.txt\n",
      "Input User File /Users/darthpatel/Library/CloudStorage/Dropbox/Research/twinkle-master/Inputs_and_Models/StellarInputFiles/user_input_stardata.xlsx using sheet sample_data_2\n",
      "-------------------------------\n",
      "Loading All Gridmodels...\n",
      "\n",
      "Loaded ATLAS9 of g=40, met=0\n",
      "Loaded NextGen of g=40, met=0\n",
      "\n",
      "Done Loading Models.\n",
      "-------------------------------\n"
     ]
    }
   ],
   "source": [
    "fuel = twinkle.Fuel(jfile)"
   ]
  },
  {
   "cell_type": "code",
   "execution_count": 33,
   "metadata": {
    "scrolled": true
   },
   "outputs": [
    {
     "name": "stdout",
     "output_type": "stream",
     "text": [
      "{\n",
      "  \"longwave_Bool\": false,\n",
      "  \"W3Adapt\": false,\n",
      "  \"W2Adapt\": false,\n",
      "  \"fitphot\": true,\n",
      "  \"scalephot\": true,\n",
      "  \"changekeys\": true,\n",
      "  \"satcheck\": true,\n",
      "  \"folders\": {\n",
      "    \"topdir\": \"twinkle-master\",\n",
      "    \"codedir\": \"twinkle\",\n",
      "    \"supportdir\": \"Inputs_and_Models\"\n",
      "  },\n",
      "  \"files\": {\n",
      "    \"input_user_starfile\": \"user_input_stardata.xlsx\",\n",
      "    \"input_stars_sheet\": \"sample_data_2\",\n",
      "    \"bv_colorfile\": \"EMamajek_MSColors.txt\",\n",
      "    \"write2file\": false,\n",
      "    \"write_sed\": false\n",
      "  },\n",
      "  \"plot\": {\n",
      "    \"plot_any\": true,\n",
      "    \"plot_grid\": false,\n",
      "    \"plot_single\": true,\n",
      "    \"pRow\": 4,\n",
      "    \"pCol\": 3,\n",
      "    \"plotsize\": [\n",
      "      8.78,\n",
      "      10.65\n",
      "    ],\n",
      "    \"ylim_up\": 1e-06,\n",
      "    \"ylim_low\": 1e-14,\n",
      "    \"xmax\": 150\n",
      "  },\n",
      "  \"spec_sample\": {\n",
      "    \"wave_min\": 2000,\n",
      "    \"wave_max\": 40000000.0,\n",
      "    \"gridpts\": 10000\n",
      "  },\n",
      "  \"phot\": {\n",
      "    \"mags2use0_original\": [\n",
      "      \"BJ\",\n",
      "      \"VJ\",\n",
      "      \"J2M\",\n",
      "      \"H2M\",\n",
      "      \"Ks2M\",\n",
      "      \"W1\",\n",
      "      \"W2\",\n",
      "      \"W3\",\n",
      "      \"W4\",\n",
      "      \"HPACS100_flux\",\n",
      "      \"HPACS160_flux\"\n",
      "    ],\n",
      "    \"mags4Phot0_original\": [\n",
      "      \"BJ\",\n",
      "      \"VJ\",\n",
      "      \"J2M\",\n",
      "      \"H2M\",\n",
      "      \"Ks2M\",\n",
      "      \"W1\",\n",
      "      \"W2\"\n",
      "    ],\n",
      "    \"mags4scale0_original\": [\n",
      "      \"BJ\",\n",
      "      \"VJ\",\n",
      "      \"J2M\",\n",
      "      \"H2M\",\n",
      "      \"Ks2M\"\n",
      "    ],\n",
      "    \"mags4Dust0\": [\n",
      "      \"W3\",\n",
      "      \"W4\",\n",
      "      \"HPACS160_flux\",\n",
      "      \"HPACS100_flux\"\n",
      "    ],\n",
      "    \"mag4DustWFC\": [\n",
      "      \"W3\",\n",
      "      \"W4\",\n",
      "      \"MIPS24\"\n",
      "    ],\n",
      "    \"scaleSEDbands\": [\n",
      "      \"W1\",\n",
      "      \"W2\"\n",
      "    ],\n",
      "    \"Remove_RedStars\": [\n",
      "      \"BJ\",\n",
      "      \"VJ\"\n",
      "    ],\n",
      "    \"Exfunc\": \"blackbody\",\n",
      "    \"modifiedBB_lam0\": \"W3\"\n",
      "  },\n",
      "  \"WISE_excess\": {\n",
      "    \"W13_cut\": 2.0,\n",
      "    \"W23_cut\": 2.0,\n",
      "    \"W12_cut\": 4\n",
      "  },\n",
      "  \"comments\": {\n",
      "    \"stinfo_file\": \"File that contains all information for input stars.\",\n",
      "    \"stinfo_topdir\": \"Directory name that holds all the stellar information\",\n",
      "    \"stcolor_dir\": \"Directory name that holds empirical relation information\",\n",
      "    \"input_stars\": \"filename of stars in single column ascii format.\",\n",
      "    \"bv_colorfile\": \"filename of empirical B and V colors & things.\",\n",
      "    \"write2file\": \"boolean that determines whether to write out results to file\",\n",
      "    \"write_sed\": \"boolean that determines whether to write out SED to file.\",\n",
      "    \"longwave_Bool\": \"boolean that determines whether to plot longer than 30um data\",\n",
      "    \"W3Adapt\": \"boolean that determines whether to use W3 to fit photopshere.\",\n",
      "    \"W2Adapt\": \"boolean that deteremines whether to use W2 to fit photosphere.\",\n",
      "    \"wave_min\": \"min wavelength in angstroms to calculate SED.\",\n",
      "    \"wave_max\": \"max wavelength in angstroms to calculate SED.\",\n",
      "    \"gridpts\": \"SED resolution.\",\n",
      "    \"mags2use0_original\": \"Array of strings of all photometry used in session.\",\n",
      "    \"mags4Phot0_original\": \"Array of strings of photometry used in photospheric fit.\",\n",
      "    \"mags4scale0_original\": \"Array of strings of photometry used in scaling raw photosphere.\",\n",
      "    \"mags4Dust0\": \"Array of strings of photometry used to calculate blackbody\",\n",
      "    \"mag4DustWFC\": \"Array of strings of \",\n",
      "    \"scaleSEDbands\": \"Array of strings of photometryused to scale final SED.\",\n",
      "    \"Remove_RedStars\": \"Array of strings of bands to remove for latest type stars.\",\n",
      "    \"Exfunc\": \"blackbody of modified blackbody.\",\n",
      "    \"modifiedBB_lam0\": \"Central wavelength band for modified blackbody calculation.\",\n",
      "    \"fitphot\": \"whether to fit the photosphere or not\",\n",
      "    \"scalephot\": \"Whether to re-scale the fitted stellar SED to a set of particular bands for whatever reason.\",\n",
      "    \"changekeys\": \"Whether to replace the WISE saturated corrected photometry keywords to standard WISE keywords.\"\n",
      "  }\n",
      "}\n"
     ]
    }
   ],
   "source": [
    "fuel.data_manager.show_parameterfile(indent=2)"
   ]
  },
  {
   "cell_type": "code",
   "execution_count": 35,
   "metadata": {},
   "outputs": [
    {
     "name": "stdout",
     "output_type": "stream",
     "text": [
      "         OtherName  spt sptViz  ... HPACS100_fluxe  Akari90_flux Akari90_fluxe\n",
      "MainName                        ...                                           \n",
      "Star1     Star_ID2  A2V    A2V  ...          0.011           1.2          0.14\n",
      "Star2     Star_ID2  A2V    A2V  ...          0.011           1.2          0.14\n",
      "Star3     Star_ID2  A2V    A2V  ...          0.011           1.2          0.14\n",
      "\n",
      "[3 rows x 50 columns]\n"
     ]
    }
   ],
   "source": [
    "fuel.data_manager.print_input_file()"
   ]
  },
  {
   "cell_type": "markdown",
   "metadata": {},
   "source": [
    "* You can access the parameterfile data through the \"DataStuff\" global parameter in `twinkle`. \n",
    "* You'll see that `twinkle.DataStuff` is just an instatntiation of `sed.DataLogistics` class"
   ]
  },
  {
   "cell_type": "code",
   "execution_count": 38,
   "metadata": {},
   "outputs": [
    {
     "name": "stdout",
     "output_type": "stream",
     "text": [
      "['BJ', 'VJ', 'J2M', 'H2M', 'Ks2M', 'W1', 'W2', 'W3', 'W4', 'HPACS100_flux', 'HPACS160_flux']\n",
      "['BJ', 'VJ', 'J2M', 'H2M', 'Ks2M']\n",
      "['BJ', 'VJ', 'J2M', 'H2M', 'Ks2M', 'W1', 'W2']\n"
     ]
    }
   ],
   "source": [
    "specs = fuel.data_manager.specs\n",
    "\n",
    "# All the bands you can use in the simulation. \n",
    "print(specs['phot']['mags2use0_original'])\n",
    "\n",
    "# All the bands that you've set to use to scale the raw model spectrum to the observed data\n",
    "print(specs['phot']['mags4scale0_original'])\n",
    "\n",
    "# All the bands that you've set to fit the scaled stellar model to the observed data\n",
    "print(specs['phot']['mags4Phot0_original'])"
   ]
  },
  {
   "cell_type": "markdown",
   "metadata": {},
   "source": [
    "Remember, that `mags2use0_original` is the set of bands that can be used. All the other lists must be SUB-SETS of `mags2use0_original`"
   ]
  },
  {
   "cell_type": "markdown",
   "metadata": {},
   "source": [
    "Note the different star names and the various options."
   ]
  },
  {
   "cell_type": "markdown",
   "metadata": {},
   "source": [
    "## 2. Fit Photosphere"
   ]
  },
  {
   "cell_type": "markdown",
   "metadata": {},
   "source": [
    "### 2.1 Select a Star and Fit it"
   ]
  },
  {
   "cell_type": "code",
   "execution_count": 39,
   "metadata": {},
   "outputs": [
    {
     "name": "stdout",
     "output_type": "stream",
     "text": [
      "Error: The key 'HPACS100_fluxm' was not found in the mags2use0 list.\n",
      "HPACS100 was converted to magnitude\n",
      "Error: The key 'HPACS160_fluxm' was not found in the mags2use0 list.\n",
      "HPACS160 was converted to magnitude\n",
      "Bands used to fit photosphere: BJ, H2M, J2M, Ks2M, VJ, W1, W2\n",
      "Bands used to scale photosphere: BJ, H2M, J2M, Ks2M, VJ\n",
      "chi2 = 17.31\n",
      "Fitted Stellar Radius: 2.271 +/- 0.014 Rsun\n",
      "Fitted Stellar Temperature: 8878 +/- 45 K\n"
     ]
    },
    {
     "name": "stderr",
     "output_type": "stream",
     "text": [
      "/Users/darthpatel/Library/CloudStorage/Dropbox/Research/twinkle-master/twinkle/sed.py:739: RuntimeWarning: divide by zero encountered in log10\n",
      "  lam_arr_all, flux_arr_all = np.log10(lam_arr_all), np.log10(\n"
     ]
    }
   ],
   "source": [
    "# select a name in the user input file\n",
    "sname = 'Star1'\n",
    "star1 = twinkle.Star(fuel=fuel, starname=sname)"
   ]
  },
  {
   "cell_type": "markdown",
   "metadata": {},
   "source": [
    "#### AND THAT'S IT FOLKS! Your SED is lit!\n",
    "\n",
    "In the output you'll see which bands were used for the photospheric model fits, the associated chi2 value, and the optimal values for the stellar radius and temperature from the fit\n"
   ]
  },
  {
   "cell_type": "markdown",
   "metadata": {},
   "source": [
    "### 2.2 Accessing Results"
   ]
  },
  {
   "cell_type": "markdown",
   "metadata": {},
   "source": [
    "Once a `twinkle` object has been instantiated, you can access various information for that star, and the functions in both `twinkle.py` and `sed.py`."
   ]
  },
  {
   "cell_type": "code",
   "execution_count": 40,
   "metadata": {},
   "outputs": [
    {
     "name": "stdout",
     "output_type": "stream",
     "text": [
      "Star: Star1\n",
      "distance: 64.10 parsecs\n",
      "Stellar Temperature: 8878 K\n",
      "Model used: NextGen\n"
     ]
    }
   ],
   "source": [
    "print(f'Star: {star1.starname}')\n",
    "print(f'distance: {star1.disti:.2f} parsecs')\n",
    "print(f'Stellar Temperature: {star1.StarTemp:.0f} K')\n",
    "print(f'Model used: {star1.modeli}')"
   ]
  },
  {
   "cell_type": "markdown",
   "metadata": {},
   "source": [
    "#### Bands used in the simulation"
   ]
  },
  {
   "cell_type": "code",
   "execution_count": 41,
   "metadata": {},
   "outputs": [
    {
     "name": "stdout",
     "output_type": "stream",
     "text": [
      "['BJ', 'H2M', 'HPACS100', 'HPACS160', 'J2M', 'Ks2M', 'VJ', 'W1', 'W2', 'W3', 'W4']\n"
     ]
    }
   ],
   "source": [
    "# All the bands included in the simulation.\n",
    "# fluxes are also calculated for each of these\n",
    "print(star1.mags2use)"
   ]
  },
  {
   "cell_type": "markdown",
   "metadata": {},
   "source": [
    "#### Corresponding Fluxes + Uncertainties [ergs/s/cm^2/Angstroms]"
   ]
  },
  {
   "cell_type": "code",
   "execution_count": 42,
   "metadata": {
    "scrolled": true
   },
   "outputs": [
    {
     "data": {
      "text/plain": [
       "({'BJ_flux': 5.1212971335637296e-11,\n",
       "  'H2M_flux': 1.0750530851825985e-12,\n",
       "  'HPACS100_flux': 2.3983396640000002e-17,\n",
       "  'HPACS160_flux': 4.68425715625e-18,\n",
       "  'J2M_flux': 2.8933805862527e-12,\n",
       "  'Ks2M_flux': 4.585092212968288e-13,\n",
       "  'VJ_flux': 3.138094836286787e-11,\n",
       "  'W1_flux': 8.509112749349895e-14,\n",
       "  'W2_flux': 3.383117916250319e-14,\n",
       "  'W3_flux': 8.588574477368846e-16,\n",
       "  'W4_flux': 8.84557999841719e-17},\n",
       " {'BJ_flux': 4.704604308969306e-13,\n",
       "  'H2M_flux': 1.7822888698454704e-14,\n",
       "  'HPACS100_flux': 3.297717037999999e-19,\n",
       "  'HPACS160_flux': 5.890453373984374e-19,\n",
       "  'J2M_flux': 5.3298040050110726e-14,\n",
       "  'Ks2M_flux': 8.868354582850445e-15,\n",
       "  'VJ_flux': 2.8682389379933944e-13,\n",
       "  'W1_flux': 6.034630500747663e-15,\n",
       "  'W2_flux': 1.2463867010878502e-15,\n",
       "  'W3_flux': 1.1074517194528836e-17,\n",
       "  'W4_flux': 2.1182408668971385e-18})"
      ]
     },
     "execution_count": 42,
     "metadata": {},
     "output_type": "execute_result"
    }
   ],
   "source": [
    "star1.flux, star1.fluxerr"
   ]
  },
  {
   "cell_type": "markdown",
   "metadata": {},
   "source": [
    "# 3. Outputs\n",
    "## 3.1 Plot Results"
   ]
  },
  {
   "cell_type": "markdown",
   "metadata": {},
   "source": [
    "You can either plot the data with the built in `twinkle.plot_photosphere` and `twinkle.plot_observedData` functions, or access the global data, and plot them however you wish."
   ]
  },
  {
   "cell_type": "code",
   "execution_count": 43,
   "metadata": {},
   "outputs": [],
   "source": [
    "import matplotlib.ticker as mtick\n",
    "\n",
    "xlabel = twinkle.x_wav_label_microns\n",
    "ylabel = twinkle.y_flux_label"
   ]
  },
  {
   "cell_type": "code",
   "execution_count": 44,
   "metadata": {},
   "outputs": [
    {
     "data": {
      "image/png": "[encoded data removed]",
      "text/plain": [
       "<Figure size 600x600 with 1 Axes>"
      ]
     },
     "metadata": {},
     "output_type": "display_data"
    }
   ],
   "source": [
    "# SET UP AXIS\n",
    "ax = plt.figure(figsize=(6,6)).add_subplot(111)\n",
    "\n",
    "# PLOT PHOTOSPHERIC AND LITERATURE DATA\n",
    "star1.plot_photosphere(ax, pointsize=4,lcolor='blue',pcolor='blue',lw=.1,label='Model Convolved')\n",
    "star1.plot_observedData(ax, ms=3,lw=2.5,label='Observed',alpha=0.5)\n",
    "\n",
    "# ADDITIONAL PLOT STUFF\n",
    "plt.loglog()\n",
    "#ax.set_xlim(.2,100)\n",
    "#ax.set_ylim(1e-13,1e-6)\n",
    "\n",
    "ax.set_xlabel(xlabel, fontsize=20, family='sans-serif')\n",
    "ax.set_ylabel(ylabel,fontsize=20, family='sans-serif')\n",
    "\n",
    "plt.subplots_adjust(left=.19, right=.96, bottom=.15, top=.93)\n",
    "ax.xaxis.set_major_formatter(mtick.FormatStrFormatter('%d'))\n",
    "\n",
    "\n",
    "ax.annotate(f'{star1.starname}', xy=(0.73, 0.53), xycoords='axes fraction',\n",
    "            fontsize=20, family='Times New Roman')\n",
    "\n",
    "ax.annotate(r'$T_* = {:.2f}$ K'.format(star1.StarTemp), xy=(0.73, 0.47),\n",
    "            xycoords='axes fraction',fontsize=10, family='Times New Roman', color='blue')\n",
    "# plt.legend()\n",
    "\n",
    "plt.show()"
   ]
  },
  {
   "cell_type": "markdown",
   "metadata": {},
   "source": [
    "## Write SED"
   ]
  },
  {
   "cell_type": "code",
   "execution_count": 45,
   "metadata": {},
   "outputs": [],
   "source": [
    "star1.writeSED(filename='sed.txt')"
   ]
  },
  {
   "cell_type": "markdown",
   "metadata": {},
   "source": [
    "## 4. Different Scenarios\n",
    "\n",
    "### 4.1 Same Star - Different Atmosphere Model"
   ]
  },
  {
   "cell_type": "markdown",
   "metadata": {},
   "source": [
    "Star1 and Star2 are the exact same lines in the input user file, but one uses the NextGen model, while the other uses ATLAS9. Here, you can see what they look like side by side."
   ]
  },
  {
   "cell_type": "code",
   "execution_count": null,
   "metadata": {},
   "outputs": [],
   "source": [
    "pd.set_option('display.max_rows', 500)\n",
    "pd.set_option('display.max_columns', 500)\n",
    "pd.set_option('display.width', 1000)"
   ]
  },
  {
   "cell_type": "code",
   "execution_count": null,
   "metadata": {},
   "outputs": [],
   "source": [
    "# this line will be changed once pandas dataframe is integrated into the structure of the code\n",
    "df_user = pd.DataFrame(twinkle.sed.StarsDat)\n",
    "df_user"
   ]
  },
  {
   "cell_type": "code",
   "execution_count": null,
   "metadata": {},
   "outputs": [],
   "source": [
    "star2 = twinkle.Star(starname='Star2')"
   ]
  },
  {
   "cell_type": "code",
   "execution_count": null,
   "metadata": {},
   "outputs": [],
   "source": [
    "# Create a figure with 1 row and 2 columns\n",
    "fig, axs = plt.subplots(1, 2, figsize=(12, 6))\n",
    "ax1, ax2 = axs[0], axs[1]\n",
    "\n",
    "# ========================================================================================================\n",
    "# PLOT FOR STAR 1\n",
    "\n",
    "# PLOT PHOTOSPHERIC AND LITERATURE DATA\n",
    "star1.plot_photosphere(ax1, pointsize=4,lcolor='blue',pcolor='blue',lw=.1,label='Model Convolved')\n",
    "star1.plot_observedData(ax1, ms=8,lw=2.5,label='Observed',alpha=0.5)\n",
    "model = star1.modeli\n",
    "ax1.set_title(f'{model}',fontsize=20)\n",
    "# ADDITIONAL PLOT STUFF\n",
    "ax1.loglog()\n",
    "\n",
    "ax1.set_xlabel(xlabel, fontsize=20, family='sans-serif')\n",
    "ax1.set_ylabel(ylabel,fontsize=20, family='sans-serif')\n",
    "\n",
    "\n",
    "ax1.xaxis.set_major_formatter(mtick.FormatStrFormatter('%d'))\n",
    "\n",
    "\n",
    "ax1.annotate(f'{star1.starname}', xy=(0.73, 0.53), xycoords='axes fraction',\n",
    "            fontsize=20, family='Times New Roman')\n",
    "\n",
    "ax1.annotate(r'$T_* = {:.2f}$ K'.format(star1.StarTemp), xy=(0.73, 0.47),\n",
    "            xycoords='axes fraction',fontsize=10, family='Times New Roman', color='blue')\n",
    "# ========================================================================================================\n",
    "# PLOT FOR STAR 2\n",
    "star2.plot_photosphere(ax2, pointsize=4,lcolor='blue',pcolor='blue',lw=.1,label='Model Convolved')\n",
    "star2.plot_observedData(ax2, ms=8,lw=2.5,label='Observed',alpha=0.5)\n",
    "model = star2.modeli\n",
    "ax2.set_title(f'{model}',fontsize=20)\n",
    "# ADDITIONAL PLOT STUFF\n",
    "ax2.loglog()\n",
    "\n",
    "ax2.set_xlabel(xlabel, fontsize=20, family='sans-serif')\n",
    "ax2.set_ylabel(ylabel,fontsize=20, family='sans-serif')\n",
    "ax2.xaxis.set_major_formatter(mtick.FormatStrFormatter('%d'))\n",
    "ax2.annotate(f'{star2.starname}', xy=(0.73, 0.53), xycoords='axes fraction',\n",
    "            fontsize=20, family='Times New Roman')\n",
    "\n",
    "ax2.annotate(r'$T_* = {:.2f}$ K'.format(star2.StarTemp), xy=(0.73, 0.47),\n",
    "            xycoords='axes fraction',fontsize=10, family='Times New Roman', color='blue')\n",
    "\n",
    "# Adjust layout to avoid overlap\n",
    "plt.tight_layout()\n",
    "\n",
    "# Show the plots\n",
    "plt.show()"
   ]
  },
  {
   "cell_type": "markdown",
   "metadata": {},
   "source": [
    "### 4.2 NoOptical Flag"
   ]
  },
  {
   "cell_type": "markdown",
   "metadata": {},
   "source": [
    "Star 3 is the same as Star 2, except that it's `NoOptical` flag is set to `True`. This flag determines whether to use the optical data (B, V) data for the photospheric fit or not, even if you've included it in your photometry use lists"
   ]
  },
  {
   "cell_type": "raw",
   "metadata": {},
   "source": [
    "THIS FLAG DOES NOT WORK - NEED TO FIGURE OUT WHY"
   ]
  },
  {
   "cell_type": "code",
   "execution_count": null,
   "metadata": {},
   "outputs": [],
   "source": [
    "star3 = twinkle.Star(starname='Star3')"
   ]
  },
  {
   "cell_type": "code",
   "execution_count": null,
   "metadata": {},
   "outputs": [],
   "source": [
    "# Create a figure with 1 row and 2 columns\n",
    "fig, axs = plt.subplots(1, 2, figsize=(12, 6))\n",
    "ax1, ax2 = axs[0], axs[1]\n",
    "\n",
    "# ========================================================================================================\n",
    "# PLOT FOR STAR 1\n",
    "\n",
    "# PLOT PHOTOSPHERIC AND LITERATURE DATA\n",
    "star1.plot_photosphere(ax1, pointsize=4,lcolor='blue',pcolor='blue',lw=.1,label='Model Convolved')\n",
    "star1.plot_observedData(ax1, ms=8,lw=2.5,label='Observed',alpha=0.5)\n",
    "ax1.set_title('NoOptical = False',fontsize=20)\n",
    "# ADDITIONAL PLOT STUFF\n",
    "ax1.loglog()\n",
    "\n",
    "ax1.set_xlabel(xlabel, fontsize=20, family='sans-serif')\n",
    "ax1.set_ylabel(ylabel,fontsize=20, family='sans-serif')\n",
    "\n",
    "\n",
    "ax1.xaxis.set_major_formatter(mtick.FormatStrFormatter('%d'))\n",
    "\n",
    "\n",
    "ax1.annotate(f'{star1.starname}', xy=(0.73, 0.53), xycoords='axes fraction',\n",
    "            fontsize=20, family='Times New Roman')\n",
    "\n",
    "ax1.annotate(r'$T_* = {:.2f}$ K'.format(star1.StarTemp), xy=(0.73, 0.47),\n",
    "            xycoords='axes fraction',fontsize=10, family='Times New Roman', color='blue')\n",
    "# ========================================================================================================\n",
    "# PLOT FOR STAR 2\n",
    "star3.plot_photosphere(ax2, pointsize=4,lcolor='blue',pcolor='blue',lw=.1,label='Model Convolved')\n",
    "star3.plot_observedData(ax2, ms=8,lw=2.5,label='Observed',alpha=0.5)\n",
    "ax2.set_title('NoOptical = True',fontsize=20)\n",
    "# ADDITIONAL PLOT STUFF\n",
    "ax2.loglog()\n",
    "\n",
    "ax2.set_xlabel(xlabel, fontsize=20, family='sans-serif')\n",
    "ax2.set_ylabel(ylabel,fontsize=20, family='sans-serif')\n",
    "ax2.xaxis.set_major_formatter(mtick.FormatStrFormatter('%d'))\n",
    "ax2.annotate(f'{star3.starname}', xy=(0.73, 0.53), xycoords='axes fraction',\n",
    "            fontsize=20, family='Times New Roman')\n",
    "\n",
    "ax2.annotate(r'$T_* = {:.2f}$ K'.format(star3.StarTemp), xy=(0.73, 0.47),\n",
    "            xycoords='axes fraction',fontsize=10, family='Times New Roman', color='blue')\n",
    "\n",
    "# Adjust layout to avoid overlap\n",
    "plt.tight_layout()\n",
    "\n",
    "# Show the plots\n",
    "plt.show()"
   ]
  },
  {
   "cell_type": "markdown",
   "metadata": {
    "collapsed": true,
    "jupyter": {
     "outputs_hidden": true
    }
   },
   "source": [
    "# 5. Calculate Excess Flux"
   ]
  },
  {
   "cell_type": "markdown",
   "metadata": {},
   "source": [
    "`Twinkle` was originally created to calculate the excess infrared (IR) flux for characterizing dust around other stars, which are like beacons for planets in that system. So `Twinkle` has some tools to do this relatively quickly."
   ]
  },
  {
   "cell_type": "code",
   "execution_count": null,
   "metadata": {},
   "outputs": [],
   "source": [
    "# There's a function that will calculate the excess flux at bands listed in mags4Dust\n",
    "star1.calc_excessflux()"
   ]
  },
  {
   "cell_type": "code",
   "execution_count": null,
   "metadata": {},
   "outputs": [],
   "source": [
    "# SET UP AXIS\n",
    "waveEx = star1.waveEx\n",
    "exFlux = star1.fluxEx\n",
    "exFlux_e = star1.efluxEx\n",
    "\n",
    "ax3 = plt.figure(figsize=(6,6)).add_subplot(111)\n",
    "ax3.set_title('Excess Flux')\n",
    "ax3.errorbar(waveEx * twinkle._ANG2MICRON, waveEx * exFlux,\n",
    "             yerr=waveEx * exFlux_e, fmt='mD',ms=6)\n",
    "ax3.set_ylabel(ylabel,fontsize=20, family='sans-serif')\n",
    "ax3.set_xlabel(xlabel, fontsize=20, family='sans-serif')\n",
    "ax3.xaxis.set_major_formatter(mtick.FormatStrFormatter('%d'))\n",
    "plt.show()"
   ]
  },
  {
   "cell_type": "markdown",
   "metadata": {
    "collapsed": true,
    "jupyter": {
     "outputs_hidden": true
    }
   },
   "source": [
    "# 6. FIT ONE TO TWO BLACKBODIES"
   ]
  },
  {
   "cell_type": "markdown",
   "metadata": {},
   "source": [
    "## 6.1 Try fitting 1 blackbody first"
   ]
  },
  {
   "cell_type": "code",
   "execution_count": null,
   "metadata": {},
   "outputs": [],
   "source": [
    "# RESET FULL SPECTRUM - bbdust_flux\n",
    "star1.fullspectrum = star1.StarPhotosphere[1][:]"
   ]
  },
  {
   "cell_type": "markdown",
   "metadata": {},
   "source": [
    "Access the SED Tools through twinkle object"
   ]
  },
  {
   "cell_type": "code",
   "execution_count": null,
   "metadata": {},
   "outputs": [],
   "source": [
    "stoo = twinkle.STools"
   ]
  },
  {
   "cell_type": "code",
   "execution_count": null,
   "metadata": {},
   "outputs": [],
   "source": [
    "# FOR NOW, USING OLD FITTING ROUTINES. WILL EVENTUALLY SWITCH TO PANDAS\n",
    "# OR SCIPY\n",
    "from twinkle.utils import mosaic_tools as mt\n",
    "ft = mt.FittingTools()\n",
    "\n",
    "# ==============================================\n",
    "# INITIAL GUESS\n",
    "tempdust = 100.\n",
    "SEDx_ang = star1.StarPhotosphere[0][:]\n",
    "bbdust = {}\n",
    "# ==============================================\n",
    "# CALCULATE BROADBAND PHOTOMETRY ACROSS IR EXCESS WAVELENGTHS\n",
    "for i,band in enumerate(star1.mags4Dust):\n",
    "    bbdust[band] = stoo.blackbody(SEDx_ang,np.array([tempdust]),1, np.array([band]))[0]\n",
    "\n",
    "bbdust_flux = np.array(list(zip(*sorted(bbdust.items())))[1]).flatten()\n",
    "\n",
    "FluxNorm_dust = np.average(exFlux / bbdust_flux, weights=1. / exFlux_e)\n",
    "\n",
    "# INITIAL GUESS FOR DUST RADIUS\n",
    "Rad_dust = np.sqrt(FluxNorm_dust / star1.su2ea_dust)\n",
    "print('Initial guess for dust radius: {} AU'.format(Rad_dust))\n"
   ]
  },
  {
   "cell_type": "markdown",
   "metadata": {},
   "source": [
    "from scipy.optimize import curve_fit"
   ]
  },
  {
   "cell_type": "markdown",
   "metadata": {},
   "source": [
    "p0_dust = np.array([tempdust, 30])\n",
    "popt, pcov = curve_fit(stoo.blackbody, SEDx_ang, exFlux, p0=p0_dust, sigma=exFlux_e,**)"
   ]
  },
  {
   "cell_type": "code",
   "execution_count": null,
   "metadata": {
    "scrolled": true
   },
   "outputs": [],
   "source": [
    "# FIT BLACKBODY\n",
    "#p0_dust = np.array([tempdust, Rad_dust])\n",
    "p0_dust = np.array([tempdust, Rad_dust])\n",
    "nparams = len(p0_dust)\n",
    "fa_Dust = {'x': SEDx_ang, 'y': exFlux, 'err': exFlux_e,\n",
    "           'func': stoo.blackbody, 'su2ea1': star1.su2ea_dust, 'bands': star1 .mags4Dust,'bulk':True}\n",
    "\n",
    "#parinfo_dust = [{'value': 0., 'step': 0, 'limits': [0, 0], 'limited': [0, 0], 'fixed': 0} for m in\n",
    "#                range(nparams)]\n",
    "parinfo_dust = [{'value': 0., 'step': 0, 'limits': [0, 0], 'limited': [0, 0], 'fixed': 0} for m in\n",
    "                range(nparams)]\n",
    "\n",
    "for k in range(nparams): parinfo_dust[k]['value'] = p0_dust[k]\n",
    "parinfo_dust[0]['relstep'] = .2\n",
    "parinfo_dust[1]['relstep'] = .2\n",
    "parinfo_dust[0]['limited'] = [1,1]\n",
    "parinfo_dust[0]['limits'] = [10,1000]\n",
    "\n",
    "m_dust = mt.mpfit(ft.deviates_from_model, parinfo=parinfo_dust, functkw=fa_Dust);#,quiet=1)\n",
    "\n",
    "# from scipy.optimize import curve_fit\n",
    "# popt, pcov = \n"
   ]
  },
  {
   "cell_type": "markdown",
   "metadata": {},
   "source": [
    "### Print out Chi2 and dust temperatures"
   ]
  },
  {
   "cell_type": "code",
   "execution_count": null,
   "metadata": {},
   "outputs": [],
   "source": [
    "# CALCULATE SINGLE TEMP BLACKBODY FIT\n",
    "p0_dust,errors = m_dust.params, m_dust.perror\n",
    "chi2 = m_dust.fnorm/m_dust.dof\n",
    "print('Chi2={:.2f}, T={:.1f} K , Radius = {:.1f} AU'.format(chi2,*p0_dust)) # , p0_dust, errors \n",
    "#p0_dust[0] = p0_dust[0] * 1.2\n",
    "dust_flux = stoo.blackbody(SEDx_ang, p0_dust,star1.su2ea_dust)"
   ]
  },
  {
   "cell_type": "markdown",
   "metadata": {},
   "source": [
    "## 6.2 Plot New SEDs With Fitted Blackbody"
   ]
  },
  {
   "cell_type": "code",
   "execution_count": null,
   "metadata": {},
   "outputs": [],
   "source": [
    "# SAVE THE FULL SPECTRUM IN CASE YOU NEED TO RESET\n",
    "fullspectrum_0 = star1.StarPhotosphere[1][:]"
   ]
  },
  {
   "cell_type": "code",
   "execution_count": null,
   "metadata": {},
   "outputs": [],
   "source": [
    "ax5 = plt.figure(figsize=(8,5)).add_subplot(111)\n",
    "\n",
    "star1.plot_photosphere(ax5, pointsize=8,lcolor='blue',pcolor='blue',lw=0.5)\n",
    "\n",
    "star1.fullspectrum = star1.StarPhotosphere[1] + dust_flux\n",
    "\n",
    "plt.plot(SEDx_ang * twinkle._ANG2MICRON, dust_flux * SEDx_ang, 'm', ls='--',lw=2)\n",
    "\n",
    "ax5.errorbar(waveEx * twinkle._ANG2MICRON, waveEx * exFlux, \n",
    "             yerr=waveEx * exFlux_e, fmt='mD',ms=6)\n",
    "star1.plot_observedData(ax5,ms=8,lw=1.5)\n",
    "ax5.set_title('Excess Flux + BLACKBODY')\n",
    "ax5.set_xlim(.2,300)\n",
    "ax5.set_ylim(1e-15,1e-6)\n",
    "ax5.set_ylabel(ylabel,fontsize=20, family='sans-serif')\n",
    "ax5.set_xlabel(xlabel, fontsize=20, family='sans-serif')\n",
    "plt.tight_layout()\n",
    "ax5.xaxis.set_major_formatter(mtick.FormatStrFormatter('%d'))\n",
    "ax5.annotate(r'{}'.format(star1.starname), xy=(0.73, 0.67),xycoords='axes fraction',\n",
    "            fontsize=20, family='Times New Roman')\n",
    "ax5.annotate(r'$T_* = {:.2f}$ K'.format(star1.StarTemp), xy=(0.73, 0.63),\n",
    "            xycoords='axes fraction',fontsize=10, family='Times New Roman', color='blue')\n",
    "ax5.xaxis.set_major_formatter(mtick.FormatStrFormatter('%d'))\n",
    "plt.loglog()\n",
    "\n",
    "# ===============================================================================================================\n",
    "ax4 = plt.figure(figsize=(8,5)).add_subplot(111)\n",
    "ax4.set_title('Excess Flux + BLACKBODY')\n",
    "ax4.errorbar(waveEx * twinkle._ANG2MICRON, waveEx * exFlux,\n",
    "             yerr=waveEx * exFlux_e, fmt='mD',ms=6)\n",
    "ax4.plot(SEDx_ang * twinkle._ANG2MICRON, dust_flux * SEDx_ang,'m-',lw=2)\n",
    "ax4.set_ylabel(ylabel,fontsize=20, family='sans-serif')\n",
    "ax4.set_xlabel(xlabel, fontsize=20, family='sans-serif')\n",
    "plt.tight_layout()\n",
    "ax4.xaxis.set_major_formatter(mtick.FormatStrFormatter('%d'))\n",
    "ax4.set_xlim(8,300)\n",
    "ax4.set_ylim(1e-13,1e-9)\n",
    "\n",
    "plt.loglog()\n",
    "plt.show()"
   ]
  },
  {
   "cell_type": "markdown",
   "metadata": {},
   "source": [
    "## 6.3 Fitting 2 blackbody's to excess flux"
   ]
  },
  {
   "cell_type": "code",
   "execution_count": null,
   "metadata": {},
   "outputs": [],
   "source": [
    "from importlib import reload"
   ]
  },
  {
   "cell_type": "code",
   "execution_count": null,
   "metadata": {},
   "outputs": [],
   "source": [
    "# FOR NOW, USING OLD FITTING ROUTINES. WILL EVENTUALLY SWITCH TO PANDAS\n",
    "# OR SCIPY\n",
    "\n",
    "# ==============================================\n",
    "# INITIAL GUESS\n",
    "td1, td2, td3 = 500, 100., 40\n",
    "SEDx_ang = star1.StarPhotosphere[0]\n",
    "bbdust = {}\n",
    "# ==============================================\n",
    "# CALCULATE BROADBAND PHOTOMETRY ACROSS IR EXCESS WAVELENGTHS\n",
    "for band in star1.mags4Dust:\n",
    "    bbdust[band] = stoo.NBlackBody(SEDx_ang,np.array([td1,1,td2,1,td3,1]),1, np.array([band]))[0]\n",
    "\n",
    "bbdust_flux = np.array(list(zip(*sorted(bbdust.items())))[1]).flatten()\n",
    "              \n",
    "FluxNorm_dust = np.average(exFlux / bbdust_flux,\n",
    "                           weights=1. / exFlux_e)\n",
    "\n",
    "# INITIAL GUESS FOR DUST RADIUS\n",
    "Rad_dust = np.sqrt(FluxNorm_dust / star1.su2ea_dust)\n",
    "print(Rad_dust)"
   ]
  },
  {
   "cell_type": "code",
   "execution_count": null,
   "metadata": {},
   "outputs": [],
   "source": [
    "# FIT BLACKBODY\n",
    "p0_dust = np.array([td1,Rad_dust,td2, Rad_dust*2,td3,Rad_dust**3])\n",
    "nparams = len(p0_dust)\n",
    "# fa_Dust = {'x': SEDx_ang, 'y': exFlux, 'err': exFlux_e,\n",
    "#            'func': stoo.doubleBB, 'su2ea1': star1.su2ea_dust, 'bands': star1.mags4Dust,'bulk':True}\n",
    "fa_Dust = {'x': SEDx_ang, 'y': exFlux, 'err': exFlux_e,\n",
    "           'func': stoo.NBlackBody, 'su2ea1': star1.su2ea_dust, 'bands': star1.mags4Dust,'bulk':True}\n",
    "\n",
    "parinfo_dust = [{'value': 0., 'relstep': 0, 'limits': [0, 0], 'limited': [0, 0], 'fixed': 0} \n",
    "                for m in range(nparams)]\n",
    "\n",
    "for k in range(nparams): parinfo_dust[k]['value'] = p0_dust[k]\n",
    "parinfo_dust[0]['relstep'] = 0.3\n",
    "parinfo_dust[1]['relstep'] = 0.2\n",
    "parinfo_dust[0]['limited'] = [1,1]\n",
    "parinfo_dust[0]['limits'] = [200,1000]\n",
    "\n",
    "parinfo_dust[2]['relstep'] = 0.3\n",
    "parinfo_dust[3]['relstep'] = 0.2\n",
    "parinfo_dust[2]['limited'] = [1,1]\n",
    "parinfo_dust[2]['limits'] = [50,100]\n",
    "\n",
    "parinfo_dust[4]['relstep'] = 0.3\n",
    "parinfo_dust[5]['relstep'] = 0.2\n",
    "parinfo_dust[4]['limited'] = [1,1]\n",
    "parinfo_dust[4]['limits'] = [2,80]\n",
    "\n",
    "\n",
    "m_dust = mt.mpfit(ft.deviates_from_model, parinfo=parinfo_dust, functkw=fa_Dust)#,quiet=1)\n"
   ]
  },
  {
   "cell_type": "markdown",
   "metadata": {},
   "source": [
    "### Print out Chi2 and dust temperatures"
   ]
  },
  {
   "cell_type": "code",
   "execution_count": null,
   "metadata": {},
   "outputs": [],
   "source": [
    "# CALCULATE SINGLE TEMP BLACKBODY FIT\n",
    "p0_dust,errors = m_dust.params, m_dust.perror\n",
    "#chi2 = m_dust.fnorm/m_dust.dof\n",
    "print('Chi2={:.2f}'.format(chi2))# , p0_dust, errors \n",
    "print(p0_dust)\n",
    "dust_flux = stoo.NBlackBody(SEDx_ang, p0_dust,star1.su2ea_dust)"
   ]
  },
  {
   "cell_type": "markdown",
   "metadata": {},
   "source": [
    "## 6.2 Plot New SEDs With Fitted Blackbody"
   ]
  },
  {
   "cell_type": "code",
   "execution_count": null,
   "metadata": {},
   "outputs": [],
   "source": [
    "# RESET FULL SPECTRUM - \n",
    "star1.resetFullSpectrum()"
   ]
  },
  {
   "cell_type": "code",
   "execution_count": null,
   "metadata": {},
   "outputs": [],
   "source": [
    "ax5 = plt.figure(figsize=(8,5)).add_subplot(111)\n",
    "star1.plot_photosphere(ax5, pointsize=8,lcolor='blue',pcolor='blue',lw=0.5)\n",
    "star1.fullspectrum = star1.StarPhotosphere[1] + dust_flux\n",
    "\n",
    "plt.plot(SEDx_ang * twinkle._ANG2MICRON, dust_flux * SEDx_ang, 'm', ls='--',lw=2)\n",
    "ax5.errorbar(waveEx * twinkle._ANG2MICRON, waveEx * exFlux, \n",
    "             yerr=waveEx * exFlux_e, fmt='mD',ms=6)\n",
    "star1.plot_observedData(ax5,ms=8,lw=1.5)\n",
    "ax5.set_title('Full Spectrum')\n",
    "ax5.set_xlim(.2,300)\n",
    "ax5.set_ylim(1e-15,1e-6)\n",
    "ax5.set_ylabel(r'$\\lambda F_{\\lambda}\\ [erg\\,\\ s^{-1}\\ cm^{-2}] $',fontsize=20, family='sans-serif')\n",
    "ax5.set_xlabel(r'$\\lambda\\ [\\mu m]$', fontsize=20, family='sans-serif')\n",
    "plt.subplots_adjust(left=.19, right=.96, bottom=.15, top=.93)\n",
    "ax5.xaxis.set_major_formatter(mtick.FormatStrFormatter('%d'))\n",
    "ax5.annotate(r'{}'.format(star1.starname), xy=(0.73, 0.67),xycoords='axes fraction',\n",
    "            fontsize=20, family='Times New Roman')\n",
    "ax5.annotate(r'$T_* = {:.2f}$ K'.format(star1.StarTemp), xy=(0.73, 0.63),\n",
    "            xycoords='axes fraction',fontsize=10, family='Times New Roman', color='blue')\n",
    "ax5.xaxis.set_major_formatter(mtick.FormatStrFormatter('%d'))\n",
    "plt.loglog()\n",
    "\n",
    "# ===============================================================================================================\n",
    "ax4 = plt.figure(figsize=(8,5)).add_subplot(111)\n",
    "ax4.set_title('Excess Flux')\n",
    "ax4.errorbar(waveEx * twinkle._ANG2MICRON, waveEx * exFlux,\n",
    "             yerr=waveEx * exFlux_e, fmt='mD',ms=6)\n",
    "ax4.plot(SEDx_ang * twinkle._ANG2MICRON, dust_flux * SEDx_ang,'m-',lw=2)\n",
    "ax4.set_ylabel(r'$\\lambda F_{\\lambda}\\ [erg\\,\\ s^{-1}\\ cm^{-2}] $',fontsize=20, family='sans-serif')\n",
    "ax4.set_xlabel(r'$\\lambda\\ [\\mu m]$', fontsize=20, family='sans-serif')\n",
    "plt.subplots_adjust(left=.19, right=.96, bottom=.15, top=.93)\n",
    "ax4.xaxis.set_major_formatter(mtick.FormatStrFormatter('%d'))\n",
    "ax4.set_xlim(8,300)\n",
    "ax4.set_ylim(1e-13,1e-9)\n",
    "\n",
    "plt.loglog()\n",
    "plt.show()"
   ]
  },
  {
   "cell_type": "code",
   "execution_count": null,
   "metadata": {},
   "outputs": [],
   "source": []
  },
  {
   "cell_type": "code",
   "execution_count": null,
   "metadata": {},
   "outputs": [],
   "source": []
  }
 ],
 "metadata": {
  "kernelspec": {
   "display_name": "Python 3 (ipykernel)",
   "language": "python",
   "name": "python3"
  },
  "language_info": {
   "codemirror_mode": {
    "name": "ipython",
    "version": 3
   },
   "file_extension": ".py",
   "mimetype": "text/x-python",
   "name": "python",
   "nbconvert_exporter": "python",
   "pygments_lexer": "ipython3",
   "version": "3.12.3"
  }
 },
 "nbformat": 4,
 "nbformat_minor": 4
}
